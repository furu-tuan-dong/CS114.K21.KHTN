{
  "nbformat": 4,
  "nbformat_minor": 0,
  "metadata": {
    "colab": {
      "name": "Mô tả đồ án ML",
      "provenance": [],
      "collapsed_sections": [],
      "toc_visible": true,
      "mount_file_id": "1NiGy7s_2YVvP0XHIPJKmmziQ4CDr5A3A",
      "authorship_tag": "ABX9TyMvmOjpBVB1IZEh6lQbn6Te",
      "include_colab_link": true
    },
    "kernelspec": {
      "name": "python3",
      "display_name": "Python 3"
    }
  },
  "cells": [
    {
      "cell_type": "markdown",
      "metadata": {
        "id": "view-in-github",
        "colab_type": "text"
      },
      "source": [
        "<a href=\"https://colab.research.google.com/github/furu-tuan-dong/CS114.K21.KHTN/blob/master/Update_M%C3%B4_t%E1%BA%A3_%C4%91%E1%BB%93_%C3%A1n_ML.ipynb\" target=\"_parent\"><img src=\"https://colab.research.google.com/assets/colab-badge.svg\" alt=\"Open In Colab\"/></a>"
      ]
    },
    {
      "cell_type": "markdown",
      "metadata": {
        "id": "ijvsvPbJtcW3",
        "colab_type": "text"
      },
      "source": [
        "## **Đồ án: Phân loại ngôn ngữ kí hiệu của người khiếm khuyết**\n",
        "#### **I. Bài toán**  \n",
        "  Nhận diện ngôn ngữ kí hiệu nhằm hiểu được phần nào ý nghĩa của người của người khiếm khuyết.\n",
        "  * Input: hình ảnh về ngôn ngữ kí hiệu\n",
        "  * Output: kí hiệu nào trong bảng chữ cái\n",
        "  \n",
        "![alt text](https://cdn-images-1.medium.com/max/1000/1*0xLa5BD6LJfMnGoXJb7wiQ.png)\n",
        "\n",
        "#### **II. Dữ liệu**\n",
        "  * Quay video và lấy khoảng 1250 ảnh cho mỗi kí hiệu và tiến hành gán nhãn\n",
        "  * Phân chia tập dữ liệu: 80% train, 20 % test, trong tập train lấy 10% làm tập validation\n",
        "\n",
        "\n",
        "<figure>\n",
        "<center>\n",
        "<img src='https://drive.google.com/file/d/11fOr33QefZQJK1-i-cwTdD-pnPP0EYci/view' />\n",
        "<figcaption>example label right</figcaption></center>\n",
        "</figure>\n",
        "\n",
        "#### **III. Feature engineering**\n",
        "Xem xét chọn lựa một trong các phương pháp như:\n",
        "  Rút trích \n",
        "\n",
        "#### **IV. Thuật toán máy học**\n",
        "Xem xét chọn lựa một trong các thuật toán như:\n",
        "* Naive Bayes Classifier\n",
        "* Support Vector Machine\n",
        "* Boosting Models\n",
        "* Deep Neural Networks\n",
        "* ...\n"
      ]
    },
    {
      "cell_type": "code",
      "metadata": {
        "id": "hDj8gjQxs8XM",
        "colab_type": "code",
        "colab": {}
      },
      "source": [
        ""
      ],
      "execution_count": null,
      "outputs": []
    }
  ]
}