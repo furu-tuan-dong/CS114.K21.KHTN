{
  "nbformat": 4,
  "nbformat_minor": 0,
  "metadata": {
    "colab": {
      "name": "Đồ án máy học.ipynb",
      "provenance": [],
      "collapsed_sections": []
    },
    "kernelspec": {
      "name": "python3",
      "display_name": "Python 3"
    }
  },
  "cells": [
    {
      "cell_type": "markdown",
      "metadata": {
        "id": "po7lV5g80I6i",
        "colab_type": "text"
      },
      "source": [
        "MÔ TẢ ĐỒ ÁN MÁY HỌC\n",
        "Mô tả bài toán\n",
        "Input: Hình ảnh Super Hero của Avengers\n",
        "Output: Xác định tên đó là Super Hero nào\n",
        "Mô tả bộ dữ liệu\n",
        "Bộ dữ liệu ảnh: download từ các trang ảnh như Google Images, Pexels, Pinterest, …\n",
        "Chia các Super Hero thành từng class riêng: mỗi class khoảng 100 ảnh JPEG, đa dạng về dáng đứng, góc chụp\n",
        "Data preparation: \n",
        "Chia dữ liệu train/dev thành 80/20\n",
        "Đọc bộ dữ liệu ảnh train\n",
        "Resize về định dạng 150x150\n",
        "Reshape về một vector \n",
        "Mô tả về đặc trưng\n",
        "Mô tả về thuật toán máy học\n",
        "Build Model: Classification sử dụng mạng tích chập (CNN), các layer được tinh chỉnh trong lúc thực hiện đồ án\n",
        "Train Model: đưa bộ data đã được xử lí vào Model\n",
        "\t\n",
        "Cài đặt, tinh chỉnh tham số \n",
        "Lost function, epoch, batch_size cho mỗi tập train/dev, Các layer, \n",
        "Đánh giá kết quả, kết luận\n",
        "\tSo sánh training/validation accuracy, training/validation loss của từng tham số, xem xét tham số nào có performance tốt nhất, có bị overfitting không, \n",
        "\t\n"
      ]
    }
  ]
}